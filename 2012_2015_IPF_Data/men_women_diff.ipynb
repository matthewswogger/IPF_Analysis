{
 "cells": [
  {
   "cell_type": "code",
   "execution_count": null,
   "metadata": {
    "collapsed": true
   },
   "outputs": [],
   "source": [
    "import pandas as pd\n",
    "import numpy as np\n",
    "import seaborn as sns\n",
    "import matplotlib.pyplot as plt\n",
    "import sqlite3\n",
    "%matplotlib inline"
   ]
  },
  {
   "cell_type": "code",
   "execution_count": null,
   "metadata": {
    "collapsed": false
   },
   "outputs": [],
   "source": [
    "conn = sqlite3.connect('IPF_data.db')\n",
    "c = conn.cursor()\n",
    "\n",
    "df_Open = pd.read_sql('''SELECT *\n",
    "                          FROM open''', conn)\n",
    "\n",
    "df_Classic = pd.read_sql('''SELECT *\n",
    "                          FROM classic''', conn)\n",
    "\n",
    "# this gets run when I'm done working for the session\n",
    "conn.close()"
   ]
  },
  {
   "cell_type": "code",
   "execution_count": null,
   "metadata": {
    "collapsed": false
   },
   "outputs": [],
   "source": [
    "df_Open.head(1)"
   ]
  },
  {
   "cell_type": "code",
   "execution_count": null,
   "metadata": {
    "collapsed": false
   },
   "outputs": [],
   "source": [
    "df_Classic.head(1)"
   ]
  },
  {
   "cell_type": "code",
   "execution_count": null,
   "metadata": {
    "collapsed": false
   },
   "outputs": [],
   "source": [
    "plt.figure(figsize=(15,7))\n",
    "sns.violinplot(\"weight_class\", \"bench_squat_ratio\", \"sex\", data=df_Open, palette=\"Set1\", split=True)\n",
    "plt.title('Open Competition',fontsize=30)\n",
    "#plt.savefig('open_comp.png')\n",
    "plt.show()"
   ]
  },
  {
   "cell_type": "code",
   "execution_count": null,
   "metadata": {
    "collapsed": false,
    "scrolled": false
   },
   "outputs": [],
   "source": [
    "plt.figure(figsize=(15,7))\n",
    "sns.violinplot(\"weight_class\", \"bench_squat_ratio\", \"sex\", data=df_Classic, palette=\"Set1\", split=True)\n",
    "plt.title('Classic Competition',fontsize=30)\n",
    "#plt.savefig('classic_comp.png')\n",
    "plt.show()"
   ]
  },
  {
   "cell_type": "code",
   "execution_count": null,
   "metadata": {
    "collapsed": false
   },
   "outputs": [],
   "source": [
    "plt.figure(figsize=(15,7))\n",
    "x = sns.violinplot(\"squat_class\", \"bench_squat_ratio\", \"sex\", data=df_Open, palette=\"Set1\", split=True)\n",
    "axes = x.axes\n",
    "axes.set_xlim(11,22)\n",
    "plt.title('Open Competition',fontsize=30)\n",
    "#plt.savefig('open_comp_squat.png')\n",
    "plt.show()"
   ]
  },
  {
   "cell_type": "code",
   "execution_count": null,
   "metadata": {
    "collapsed": false,
    "scrolled": false
   },
   "outputs": [],
   "source": [
    "plt.figure(figsize=(15,7))\n",
    "x = sns.violinplot(\"squat_class\", \"bench_squat_ratio\", \"sex\", data=df_Classic, palette=\"Set1\", split=True)\n",
    "axes = x.axes\n",
    "axes.set_xlim(8,18)\n",
    "plt.title('Classic Competition',fontsize=30)\n",
    "#plt.savefig('classic_comp_squat.png')\n",
    "plt.show()"
   ]
  },
  {
   "cell_type": "code",
   "execution_count": null,
   "metadata": {
    "collapsed": false
   },
   "outputs": [],
   "source": [
    "df_Classic.head(1)"
   ]
  },
  {
   "cell_type": "code",
   "execution_count": null,
   "metadata": {
    "collapsed": false
   },
   "outputs": [],
   "source": [
    "df_Classic.head(2)"
   ]
  },
  {
   "cell_type": "code",
   "execution_count": null,
   "metadata": {
    "collapsed": false
   },
   "outputs": [],
   "source": [
    "squat_classes = [160,170,180,190,200,210,220,230,240]\n",
    "weight_classes = [60,70,80,90,100,110,120,200]\n",
    "\n",
    "squats_squat_class_m, benches_squat_class_m = [], []\n",
    "for squat in squat_classes:\n",
    "    x = df_Classic[df_Classic.squat_class == squat]\n",
    "    x = x[x.sex == 'M']\n",
    "    squats_squat_class_m.append(x['best_squat'].mean())\n",
    "    benches_squat_class_m.append(x['best_bench'].mean())\n",
    "    \n",
    "squats_squat_class_w, benches_squat_class_w = [], []\n",
    "for squat in squat_classes:\n",
    "    a = df_Classic[df_Classic.squat_class == squat]\n",
    "    a = a[a.sex == 'W']\n",
    "    squats_squat_class_w.append(a['best_squat'].mean())\n",
    "    benches_squat_class_w.append(a['best_bench'].mean())\n",
    "\n",
    "\n",
    "squats_weight_class_m, benches_weight_class_m = [], []\n",
    "for weight in weight_classes:\n",
    "    y = df_Classic[df_Classic.weight_class == weight]\n",
    "    y = y[y.sex == 'M']\n",
    "    squats_weight_class_m.append(y['best_squat'].mean())\n",
    "    benches_weight_class_m.append(y['best_bench'].mean())\n",
    "    \n",
    "squats_weight_class_w, benches_weight_class_w = [], []\n",
    "for weight in weight_classes:\n",
    "    b = df_Classic[df_Classic.weight_class == weight]\n",
    "    b = b[b.sex == 'W']\n",
    "    squats_weight_class_w.append(b['best_squat'].mean())\n",
    "    benches_weight_class_w.append(b['best_bench'].mean())"
   ]
  },
  {
   "cell_type": "code",
   "execution_count": null,
   "metadata": {
    "collapsed": false
   },
   "outputs": [],
   "source": [
    "squat_classes = [160,170,180,190,200,210,220,230,240]\n",
    "\n",
    "squats_squat_class_m_c, benches_squat_class_m_c = [], []\n",
    "for squat in squat_classes:\n",
    "    x = df_Classic[df_Classic.squat_class == squat]\n",
    "    x = x[x.sex == 'M']\n",
    "    squats_squat_class_m_c.append(x['best_squat'].count())\n",
    "    benches_squat_class_m_c.append(x['best_bench'].count())\n",
    "    \n",
    "squats_squat_class_w_c, benches_squat_class_w_c = [], []\n",
    "for squat in squat_classes:\n",
    "    a = df_Classic[df_Classic.squat_class == squat]\n",
    "    a = a[a.sex == 'W']\n",
    "    squats_squat_class_w_c.append(a['best_squat'].count())\n",
    "    benches_squat_class_w_c.append(a['best_bench'].count())"
   ]
  },
  {
   "cell_type": "code",
   "execution_count": null,
   "metadata": {
    "collapsed": false
   },
   "outputs": [],
   "source": [
    "print \"Mens Squats \", squats_squat_class_m_c\n",
    "print \"Mens Benches \", benches_squat_class_m_c\n",
    "print \"Womens Squats \", squats_squat_class_w_c\n",
    "print \"Womens Benches \", benches_squat_class_w_c"
   ]
  },
  {
   "cell_type": "code",
   "execution_count": null,
   "metadata": {
    "collapsed": false
   },
   "outputs": [],
   "source": [
    "from scipy import stats\n",
    "\n",
    "# 170 kilo squat class t-test\n",
    "class_170 = df_Classic[df_Classic.squat_class == 170.]\n",
    "men_bench_170 = class_170[class_170.sex == 'M']\n",
    "women_bench_170 = class_170[class_170.sex == 'W']\n",
    "print \"170kilo squat_class bench t-test p-value:\", stats.ttest_ind(men_bench_170['best_bench'],\\\n",
    "                                                                women_bench_170['best_bench'], equal_var = False)[1]\n",
    "\n",
    "# 180 kilo squat class t-test\n",
    "class_180 = df_Classic[df_Classic.squat_class == 180.]\n",
    "men_bench_180 = class_180[class_180.sex == 'M']\n",
    "women_bench_180 = class_180[class_180.sex == 'W']\n",
    "print \"180kilo squat_class bench t-test p-value:\",stats.ttest_ind(men_bench_180['best_bench'],\\\n",
    "                                                                women_bench_180['best_bench'], equal_var = False)[1]\n",
    "\n",
    "# 190 kilo squat class t-test\n",
    "class_190 = df_Classic[df_Classic.squat_class == 190.]\n",
    "men_bench_190 = class_190[class_190.sex == 'M']\n",
    "women_bench_190 = class_190[class_190.sex == 'W']\n",
    "print \"190kilo squat_class bench t-test p-value:\",stats.ttest_ind(men_bench_190['best_bench'],\\\n",
    "                                                                women_bench_190['best_bench'], equal_var = False)[1]\n",
    "\n",
    "# 200 kilo squat class t-test\n",
    "class_200 = df_Classic[df_Classic.squat_class == 200.]\n",
    "men_bench_200 = class_200[class_200.sex == 'M']\n",
    "women_bench_200 = class_200[class_200.sex == 'W']\n",
    "print \"200kilo squat_class bench t-test p-value:\",stats.ttest_ind(men_bench_200['best_bench'],\\\n",
    "                                                                women_bench_200['best_bench'], equal_var = False)[1]"
   ]
  },
  {
   "cell_type": "code",
   "execution_count": null,
   "metadata": {
    "collapsed": false
   },
   "outputs": [],
   "source": [
    "#170 class men women mean and std\n",
    "print \"  170 class men bench mean\", men_bench_170['best_bench'].mean()\n",
    "print \"                       std\", men_bench_170['best_bench'].std()\n",
    "print \" \"\n",
    "\n",
    "print \"170 class women bench mean\", women_bench_170['best_bench'].mean()\n",
    "print \"                       std\", women_bench_170['best_bench'].std()\n",
    "print \" \"\n",
    "#180 class men women mean and std\n",
    "print \"  180 class men bench mean\", men_bench_180['best_bench'].mean()\n",
    "print \"                       std\", men_bench_180['best_bench'].std()\n",
    "print \" \"\n",
    "\n",
    "print \"180 class women bench mean\", women_bench_180['best_bench'].mean()\n",
    "print \"                       std\", women_bench_180['best_bench'].std()\n",
    "print \" \"\n",
    "#190 class men women mean and std\n",
    "print \"  190 class men bench mean\", men_bench_190['best_bench'].mean()\n",
    "print \"                       std\", men_bench_190['best_bench'].std()\n",
    "print \" \"\n",
    "\n",
    "print \"190 class women bench mean\", women_bench_190['best_bench'].mean()\n",
    "print \"                       std\", women_bench_190['best_bench'].std()\n",
    "print \" \"\n",
    "\n",
    "#200 class men women mean and std\n",
    "print \"  200 class men bench mean\", men_bench_200['best_bench'].mean()\n",
    "print \"                       std\", men_bench_200['best_bench'].std()\n",
    "print \" \"\n",
    "\n",
    "print \"200 class women bench mean\", women_bench_200['best_bench'].mean()\n",
    "print \"                       std\", women_bench_200['best_bench'].std()"
   ]
  },
  {
   "cell_type": "code",
   "execution_count": null,
   "metadata": {
    "collapsed": false
   },
   "outputs": [],
   "source": [
    "plt.figure(figsize=(15,8))\n",
    "plt.title('Broken into Squat Classes',size=30)\n",
    "plt.scatter(squats_squat_class_w, benches_squat_class_w, color='g', label='Women')\n",
    "plt.scatter(squats_squat_class_m, benches_squat_class_m, color='b', label='Men')\n",
    "plt.xlim(130,270)\n",
    "plt.ylim(60, 190)\n",
    "plt.xlabel('Squat', size=20)\n",
    "plt.ylabel('Bench', size=20)\n",
    "plt.legend()\n",
    "# plt.savefig('looks_like_a_difference_to_me.png')\n",
    "plt.show()"
   ]
  },
  {
   "cell_type": "code",
   "execution_count": null,
   "metadata": {
    "collapsed": false
   },
   "outputs": [],
   "source": [
    "plt.figure(figsize=(15,8))\n",
    "plt.title('Broken into Weight Classes',size=30)\n",
    "plt.scatter(squats_weight_class_w, benches_weight_class_w, color='g', label='Women')\n",
    "plt.scatter(squats_weight_class_m, benches_weight_class_m, color='b', label='Men')\n",
    "plt.xlim(80,360)\n",
    "plt.ylim(50, 250)\n",
    "plt.xlabel('Squat', size=20)\n",
    "plt.ylabel('Bench', size=20)\n",
    "plt.legend()\n",
    "plt.show()"
   ]
  },
  {
   "cell_type": "code",
   "execution_count": null,
   "metadata": {
    "collapsed": true
   },
   "outputs": [],
   "source": []
  }
 ],
 "metadata": {
  "kernelspec": {
   "display_name": "Python 2",
   "language": "python",
   "name": "python2"
  },
  "language_info": {
   "codemirror_mode": {
    "name": "ipython",
    "version": 2
   },
   "file_extension": ".py",
   "mimetype": "text/x-python",
   "name": "python",
   "nbconvert_exporter": "python",
   "pygments_lexer": "ipython2",
   "version": "2.7.11"
  },
  "widgets": {
   "state": {},
   "version": "1.1.2"
  }
 },
 "nbformat": 4,
 "nbformat_minor": 0
}
