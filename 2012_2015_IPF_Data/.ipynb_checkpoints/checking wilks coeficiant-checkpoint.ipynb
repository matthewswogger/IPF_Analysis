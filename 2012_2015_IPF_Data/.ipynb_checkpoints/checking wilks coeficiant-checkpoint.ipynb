{
 "cells": [
  {
   "cell_type": "code",
   "execution_count": null,
   "metadata": {
    "collapsed": true
   },
   "outputs": [],
   "source": [
    "import pandas as pd\n",
    "import numpy as np\n",
    "import matplotlib.pyplot as plt\n",
    "%matplotlib inline"
   ]
  },
  {
   "cell_type": "code",
   "execution_count": null,
   "metadata": {
    "collapsed": true
   },
   "outputs": [],
   "source": [
    "df = pd.read_csv('Data_Total_Table_1.csv')"
   ]
  },
  {
   "cell_type": "code",
   "execution_count": null,
   "metadata": {
    "collapsed": false
   },
   "outputs": [],
   "source": [
    "df.tail()"
   ]
  },
  {
   "cell_type": "code",
   "execution_count": null,
   "metadata": {
    "collapsed": true
   },
   "outputs": [],
   "source": [
    "df = df[df['Body Weight'] > 5.0]\n",
    "df = df[df.Total > 5.0]\n",
    "\n",
    "df_c = df[df.Division == 'Classic']\n",
    "df_o = df[df.Division == 'Open']"
   ]
  },
  {
   "cell_type": "code",
   "execution_count": null,
   "metadata": {
    "collapsed": false
   },
   "outputs": [],
   "source": [
    "plt.figure(figsize=(17,7))\n",
    "plt.subplot(121)\n",
    "plt.plot(df_c['Total'], df_c['Body Weight'], 'bo', )\n",
    "plt.title('Classic Competition',fontsize=20)\n",
    "plt.xlabel('Total')\n",
    "plt.ylabel('Body Weight')\n",
    "plt.xlim(0,)\n",
    "plt.ylim(0,)\n",
    "\n",
    "plt.subplot(122)\n",
    "plt.plot(df_o['Total'], df_o['Body Weight'], 'r+')\n",
    "plt.title('Open Competition',fontsize=20)\n",
    "plt.xlabel('Total')\n",
    "plt.ylabel('Body Weight')\n",
    "plt.xlim(0,)\n",
    "plt.ylim(0,)\n",
    "plt.show()"
   ]
  },
  {
   "cell_type": "code",
   "execution_count": null,
   "metadata": {
    "collapsed": true
   },
   "outputs": [],
   "source": []
  }
 ],
 "metadata": {
  "kernelspec": {
   "display_name": "Python 2",
   "language": "python",
   "name": "python2"
  },
  "language_info": {
   "codemirror_mode": {
    "name": "ipython",
    "version": 2
   },
   "file_extension": ".py",
   "mimetype": "text/x-python",
   "name": "python",
   "nbconvert_exporter": "python",
   "pygments_lexer": "ipython2",
   "version": "2.7.11"
  },
  "widgets": {
   "state": {},
   "version": "1.1.2"
  }
 },
 "nbformat": 4,
 "nbformat_minor": 0
}
