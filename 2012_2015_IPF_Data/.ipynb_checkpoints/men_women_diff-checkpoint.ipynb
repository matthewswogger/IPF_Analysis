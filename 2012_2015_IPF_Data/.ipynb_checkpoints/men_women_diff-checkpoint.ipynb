{
 "cells": [
  {
   "cell_type": "code",
   "execution_count": 1,
   "metadata": {
    "collapsed": true
   },
   "outputs": [],
   "source": [
    "import pandas as pd\n",
    "import numpy as np\n",
    "import seaborn as sns\n",
    "import matplotlib.pyplot as plt\n",
    "%matplotlib inline"
   ]
  },
  {
   "cell_type": "code",
   "execution_count": 2,
   "metadata": {
    "collapsed": false
   },
   "outputs": [],
   "source": [
    "df = pd.read_csv('Data_Total_Table_1.csv')\n",
    "df = df[:1369]\n",
    "df['bench/squat'] = df['Best Bench'] / df['Best Squat']\n",
    "# df = df[np.isfinite(df['bench/squat'])]\n",
    "\n",
    "weight_class = []\n",
    "for _, lifter in df.iterrows():\n",
    "    weights = [(0.0,50.0),(50.0,60.0),(60.0,70.0),(70.0,80.0),(80.0,90.0),(90.0,100.0),\\\n",
    "                                                                           (100.0,110.0),(110.0,120.0),(120.0,200.0)]\n",
    "    for w_class in weights:\n",
    "        bottom = w_class[0]\n",
    "        top = w_class[1]\n",
    "        if (lifter['Body Weight'] > bottom) and (lifter['Body Weight'] <= top):\n",
    "            weight_class.append(top)            \n",
    "df['weight_class'] = pd.Series(weight_class)\n",
    "\n",
    "squat_class = []\n",
    "for _, lifter in df.iterrows():\n",
    "    squat_range =[(0.0,50.0),(50.0,60.0),(60.0,70.0),(70.0,80.0),(80.0,90.0),(90.0,100.0),(100.0,110.0),(110.0,120.0),\\\n",
    "               (120.0,130.0),(130.0,140.0),(140.0,150.0),(150.0,160.0),(160.0,170.0),(170.0,180.0),(180.0,190.0),\\\n",
    "               (190.0,200.0),(200.0,210.0),(210.0,220.0),(220.0,230.0),(230.0,240.0),(240.0,250.0),(250.0,260.0),\\\n",
    "               (260.0,270.0),(270.0,280.0),(280.0,290.0),(290.0,300.0),(300.0,310.0),(310.0,320.0),(320.0,330.0),\\\n",
    "               (330.0,340.0),(340.0,350.0),(350.0,360.0),(360.0,370.0),(370.0,380.0),(380.0,390.0),(390.0,400.0),\\\n",
    "               (400.0,410.0),(410.0,420.0),(420.0,430.0),(430.0,440.0),(440.0,450.0),(450.0,460.0),(460.0,470.0),\\\n",
    "               (470.0,480.0),(480.0,490.0)]\n",
    "    \n",
    "    for s_range in squat_range:\n",
    "        bottom = s_range[0]\n",
    "        top = s_range[1]\n",
    "        if (lifter['Best Squat'] > bottom) and (lifter['Best Squat'] <= top):\n",
    "            squat_class.append(top)         \n",
    "df['squat_class'] = pd.Series(squat_class)\n",
    "\n",
    "df_Open = df[df.Division == 'Open']\n",
    "df_Classic = df[df.Division == 'Classic']\n",
    "# df_Open = df_Open[np.isfinite(df_Open['bench/squat'])]\n",
    "# df_Classic = df_Classic[np.isfinite(df_Classic['bench/squat'])]"
   ]
  },
  {
   "cell_type": "code",
   "execution_count": null,
   "metadata": {
    "collapsed": false
   },
   "outputs": [],
   "source": [
    "plt.figure(figsize=(15,7))\n",
    "sns.violinplot(\"weight_class\", \"bench/squat\", \"Sex\", data=df_Open, palette=\"Set1\", split=True)\n",
    "plt.title('Open Competition',fontsize=30)\n",
    "#plt.savefig('open_comp.png')\n",
    "plt.show()"
   ]
  },
  {
   "cell_type": "code",
   "execution_count": null,
   "metadata": {
    "collapsed": false,
    "scrolled": false
   },
   "outputs": [],
   "source": [
    "plt.figure(figsize=(15,7))\n",
    "sns.violinplot(\"weight_class\", \"bench/squat\", \"Sex\", data=df_Classic, palette=\"Set1\", split=True)\n",
    "plt.title('Classic Competition',fontsize=30)\n",
    "#plt.savefig('classic_comp.png')\n",
    "plt.show()"
   ]
  },
  {
   "cell_type": "code",
   "execution_count": null,
   "metadata": {
    "collapsed": false
   },
   "outputs": [],
   "source": [
    "plt.figure(figsize=(15,7))\n",
    "x = sns.violinplot(\"squat_class\", \"bench/squat\", \"Sex\", data=df_Open, palette=\"Set1\", split=True)\n",
    "axes = x.axes\n",
    "axes.set_xlim(11,22)\n",
    "plt.title('Open Competition',fontsize=30)\n",
    "#plt.savefig('open_comp_squat.png')\n",
    "plt.show()"
   ]
  },
  {
   "cell_type": "code",
   "execution_count": null,
   "metadata": {
    "collapsed": false,
    "scrolled": false
   },
   "outputs": [],
   "source": [
    "plt.figure(figsize=(15,7))\n",
    "x = sns.violinplot(\"squat_class\", \"bench/squat\", \"Sex\", data=df_Classic, palette=\"Set1\", split=True)\n",
    "axes = x.axes\n",
    "axes.set_xlim(8,18)\n",
    "plt.title('Classic Competition',fontsize=30)\n",
    "#plt.savefig('classic_comp_squat.png')\n",
    "plt.show()"
   ]
  },
  {
   "cell_type": "code",
   "execution_count": null,
   "metadata": {
    "collapsed": false
   },
   "outputs": [],
   "source": [
    "df_Classic.head()"
   ]
  },
  {
   "cell_type": "code",
   "execution_count": null,
   "metadata": {
    "collapsed": false
   },
   "outputs": [],
   "source": [
    "# g = sns.PairGrid(df[[\"mpg\", \"horsepower\", \"weight\", \"origin\"]], hue=\"origin\")  \n",
    "# g.map_upper(sns.regplot)  \n",
    "# g.map_lower(sns.residplot)  \n",
    "# g.map_diag(plt.hist)  \n",
    "# for ax in g.axes.flat:  \n",
    "#     plt.setp(ax.get_xticklabels(), rotation=45)\n",
    "# g.add_legend()  \n",
    "# g.set(alpha=0.5)  \n",
    "g = sns.PairGrid(df_Classic[['Best Bench', 'Best Squat', 'Best Deadlift', 'Sex']], hue='Sex',size=4)\n",
    "g.map_upper(sns.regplot)\n",
    "g.map_lower(sns.regplot)\n",
    "g.map_diag(plt.hist)\n",
    "for ax in g.axes.flat:\n",
    "    plt.setp(ax.get_xticklabels(), rotation=45)\n",
    "g.add_legend()\n",
    "# g.set(alpha=0.1)\n",
    "plt.show()"
   ]
  },
  {
   "cell_type": "code",
   "execution_count": null,
   "metadata": {
    "collapsed": false
   },
   "outputs": [],
   "source": [
    "plt.figure(figsize=(15,8))\n",
    "plt.scatter(df_Classic['Best Squat'][df['Sex'] == 'W'], df_Classic['Best Bench'][df['Sex'] == 'W'],\\\n",
    "                                                                                            color='g', label='Women')\n",
    "plt.scatter(df_Classic['Best Squat'][df['Sex'] == 'M'], df_Classic['Best Bench'][df['Sex'] == 'M'],\\\n",
    "                                                                                            color='b', label='Men')\n",
    "plt.xlim(0,)\n",
    "plt.legend()\n",
    "plt.show()"
   ]
  },
  {
   "cell_type": "code",
   "execution_count": null,
   "metadata": {
    "collapsed": false
   },
   "outputs": [],
   "source": [
    "df_Classic.head(2)"
   ]
  },
  {
   "cell_type": "code",
   "execution_count": 3,
   "metadata": {
    "collapsed": true
   },
   "outputs": [],
   "source": [
    "squat_classes = [160., 170., 180., 190., 200., 210., 220., 230., 240.]\n",
    "weight_classes = [60., 70., 80., 90., 100., 110., 120., 200.]\n",
    "\n",
    "squats_squat_class_m, benches_squat_class_m = [], []\n",
    "for squat in squat_classes:\n",
    "    x = df_Classic[df_Classic.squat_class == squat]\n",
    "    x = x[x.Sex == 'M']\n",
    "    squats_squat_class_m.append(x['Best Squat'].mean())\n",
    "    benches_squat_class_m.append(x['Best Bench'].mean())\n",
    "    \n",
    "squats_squat_class_w, benches_squat_class_w = [], []\n",
    "for squat in squat_classes:\n",
    "    a = df_Classic[df_Classic.squat_class == squat]\n",
    "    a = a[a.Sex == 'W']\n",
    "    squats_squat_class_w.append(a['Best Squat'].mean())\n",
    "    benches_squat_class_w.append(a['Best Bench'].mean())\n",
    "\n",
    "\n",
    "squats_weight_class_m, benches_weight_class_m = [], []\n",
    "for weight in weight_classes:\n",
    "    y = df_Classic[df_Classic.weight_class == weight]\n",
    "    y = y[y.Sex == 'M']\n",
    "    squats_weight_class_m.append(y['Best Squat'].mean())\n",
    "    benches_weight_class_m.append(y['Best Bench'].mean())\n",
    "    \n",
    "squats_weight_class_w, benches_weight_class_w = [], []\n",
    "for weight in weight_classes:\n",
    "    b = df_Classic[df_Classic.weight_class == weight]\n",
    "    b = b[b.Sex == 'W']\n",
    "    squats_weight_class_w.append(b['Best Squat'].mean())\n",
    "    benches_weight_class_w.append(b['Best Bench'].mean())"
   ]
  },
  {
   "cell_type": "code",
   "execution_count": null,
   "metadata": {
    "collapsed": false
   },
   "outputs": [],
   "source": [
    "squat_classes = [160., 170., 180., 190., 200., 210., 220., 230., 240.]\n",
    "\n",
    "squats_squat_class_m_c, benches_squat_class_m_c = [], []\n",
    "for squat in squat_classes:\n",
    "    x = df_Classic[df_Classic.squat_class == squat]\n",
    "    x = x[x.Sex == 'M']\n",
    "    squats_squat_class_m_c.append(x['Best Squat'].count())\n",
    "    benches_squat_class_m_c.append(x['Best Bench'].count())\n",
    "    \n",
    "squats_squat_class_w_c, benches_squat_class_w_c = [], []\n",
    "for squat in squat_classes:\n",
    "    a = df_Classic[df_Classic.squat_class == squat]\n",
    "    a = a[a.Sex == 'W']\n",
    "    squats_squat_class_w_c.append(a['Best Squat'].count())\n",
    "    benches_squat_class_w_c.append(a['Best Bench'].count())"
   ]
  },
  {
   "cell_type": "code",
   "execution_count": null,
   "metadata": {
    "collapsed": false
   },
   "outputs": [],
   "source": [
    "print \"Mens Squats \", squats_squat_class_m_c\n",
    "print \"Mens Benches \", benches_squat_class_m_c\n",
    "print \"Womens Squats \", squats_squat_class_w_c\n",
    "print \"Womens Benches \", benches_squat_class_w_c"
   ]
  },
  {
   "cell_type": "code",
   "execution_count": 4,
   "metadata": {
    "collapsed": false
   },
   "outputs": [
    {
     "name": "stdout",
     "output_type": "stream",
     "text": [
      "170kilo squat_class bench t-test p-value: 0.00250760790622\n",
      "180kilo squat_class bench t-test p-value: 0.0541363541918\n",
      "190kilo squat_class bench t-test p-value: 0.000968291978293\n",
      "200kilo squat_class bench t-test p-value: 0.00186938706993\n"
     ]
    }
   ],
   "source": [
    "from scipy import stats\n",
    "\n",
    "# 170 kilo squat class t-test\n",
    "class_170 = df_Classic[df_Classic.squat_class == 170.]\n",
    "men_bench_170 = class_170[class_170.Sex == 'M']\n",
    "women_bench_170 = class_170[class_170.Sex == 'W']\n",
    "print \"170kilo squat_class bench t-test p-value:\", stats.ttest_ind(men_bench_170['Best Bench'],\\\n",
    "                                                                women_bench_170['Best Bench'], equal_var = False)[1]\n",
    "\n",
    "# 180 kilo squat class t-test\n",
    "class_180 = df_Classic[df_Classic.squat_class == 180.]\n",
    "men_bench_180 = class_180[class_180.Sex == 'M']\n",
    "women_bench_180 = class_180[class_180.Sex == 'W']\n",
    "print \"180kilo squat_class bench t-test p-value:\",stats.ttest_ind(men_bench_180['Best Bench'],\\\n",
    "                                                                women_bench_180['Best Bench'], equal_var = False)[1]\n",
    "\n",
    "# 190 kilo squat class t-test\n",
    "class_190 = df_Classic[df_Classic.squat_class == 190.]\n",
    "men_bench_190 = class_190[class_190.Sex == 'M']\n",
    "women_bench_190 = class_190[class_190.Sex == 'W']\n",
    "print \"190kilo squat_class bench t-test p-value:\",stats.ttest_ind(men_bench_190['Best Bench'],\\\n",
    "                                                                women_bench_190['Best Bench'], equal_var = False)[1]\n",
    "\n",
    "# 200 kilo squat class t-test\n",
    "class_200 = df_Classic[df_Classic.squat_class == 200.]\n",
    "men_bench_200 = class_200[class_200.Sex == 'M']\n",
    "women_bench_200 = class_200[class_200.Sex == 'W']\n",
    "print \"200kilo squat_class bench t-test p-value:\",stats.ttest_ind(men_bench_200['Best Bench'],\\\n",
    "                                                                women_bench_200['Best Bench'], equal_var = False)[1]"
   ]
  },
  {
   "cell_type": "code",
   "execution_count": 8,
   "metadata": {
    "collapsed": false
   },
   "outputs": [
    {
     "name": "stdout",
     "output_type": "stream",
     "text": [
      "126.785714286 18.2981263678\n",
      "94.6875 12.0372685163\n",
      "131.590909091 43.7503246741\n",
      "102.272727273 11.8561453187\n",
      "136.388888889 25.2082826932\n",
      "107.857142857 12.0267558861\n",
      "141.875 25.3886457562\n",
      "109.9 20.4665037996\n"
     ]
    }
   ],
   "source": [
    "#170 class men women mean and std\n",
    "print men_bench_170['Best Bench'].mean(), men_bench_170['Best Bench'].std()\n",
    "print women_bench_170['Best Bench'].mean(), women_bench_170['Best Bench'].std()\n",
    "\n",
    "#180 class men women mean and std\n",
    "print men_bench_180['Best Bench'].mean(), men_bench_180['Best Bench'].std()\n",
    "print women_bench_180['Best Bench'].mean(), women_bench_180['Best Bench'].std()\n",
    "\n",
    "#190 class men women mean and std\n",
    "print men_bench_190['Best Bench'].mean(), men_bench_190['Best Bench'].std()\n",
    "print women_bench_190['Best Bench'].mean(), women_bench_190['Best Bench'].std()\n",
    "\n",
    "#200 class men women mean and std\n",
    "print men_bench_200['Best Bench'].mean(), men_bench_200['Best Bench'].std()\n",
    "print women_bench_200['Best Bench'].mean(), women_bench_200['Best Bench'].std()"
   ]
  },
  {
   "cell_type": "code",
   "execution_count": null,
   "metadata": {
    "collapsed": false
   },
   "outputs": [],
   "source": [
    "plt.figure(figsize=(15,8))\n",
    "plt.title('Broken into Squat Classes',size=30)\n",
    "plt.scatter(squats_squat_class_w, benches_squat_class_w, color='g', label='Women')\n",
    "plt.scatter(squats_squat_class_m, benches_squat_class_m, color='b', label='Men')\n",
    "plt.xlim(130,270)\n",
    "plt.ylim(60, 190)\n",
    "plt.xlabel('Squat', size=20)\n",
    "plt.ylabel('Bench', size=20)\n",
    "plt.legend()\n",
    "# plt.savefig('looks_like_a_difference_to_me.png')\n",
    "plt.show()"
   ]
  },
  {
   "cell_type": "code",
   "execution_count": null,
   "metadata": {
    "collapsed": false
   },
   "outputs": [],
   "source": [
    "plt.figure(figsize=(15,8))\n",
    "plt.title('Broken into Weight Classes',size=30)\n",
    "plt.scatter(squats_weight_class_w, benches_weight_class_w, color='g', label='Women')\n",
    "plt.scatter(squats_weight_class_m, benches_weight_class_m, color='b', label='Men')\n",
    "plt.xlim(80,360)\n",
    "plt.ylim(50, 250)\n",
    "plt.xlabel('Squat', size=20)\n",
    "plt.ylabel('Bench', size=20)\n",
    "plt.legend()\n",
    "plt.show()"
   ]
  },
  {
   "cell_type": "code",
   "execution_count": null,
   "metadata": {
    "collapsed": true
   },
   "outputs": [],
   "source": []
  }
 ],
 "metadata": {
  "kernelspec": {
   "display_name": "Python 2",
   "language": "python",
   "name": "python2"
  },
  "language_info": {
   "codemirror_mode": {
    "name": "ipython",
    "version": 2
   },
   "file_extension": ".py",
   "mimetype": "text/x-python",
   "name": "python",
   "nbconvert_exporter": "python",
   "pygments_lexer": "ipython2",
   "version": "2.7.11"
  },
  "widgets": {
   "state": {},
   "version": "1.1.2"
  }
 },
 "nbformat": 4,
 "nbformat_minor": 0
}
