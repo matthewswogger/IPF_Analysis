{
 "cells": [
  {
   "cell_type": "code",
   "execution_count": 4,
   "metadata": {
    "collapsed": false
   },
   "outputs": [],
   "source": [
    "import plotly.plotly as py\n",
    "from plotly.graph_objs import *\n",
    "import pandas as pd\n",
    "import numpy as np\n",
    "import sqlite3\n",
    "# plotly.tools.set_credentials_file(username='matthewswogger', api_key='yvy76segzl')"
   ]
  },
  {
   "cell_type": "code",
   "execution_count": 5,
   "metadata": {
    "collapsed": false
   },
   "outputs": [],
   "source": [
    "# trace0 = Scatter(x=[1, 2, 3, 4], y=[10, 15, 13, 17])\n",
    "# trace1 = Scatter(x=[1, 2, 3, 4], y=[16, 5, 11, 9])\n",
    "# data = Data([trace0, trace1])\n",
    "\n",
    "# py.iplot(data, filename = 'basic-line')"
   ]
  },
  {
   "cell_type": "code",
   "execution_count": 6,
   "metadata": {
    "collapsed": true
   },
   "outputs": [],
   "source": [
    "conn = sqlite3.connect('IPF_data.db')\n",
    "c = conn.cursor()\n",
    "\n",
    "df = pd.read_sql('''SELECT *\n",
    "                    FROM classic''', conn)\n",
    "conn.close()"
   ]
  },
  {
   "cell_type": "code",
   "execution_count": 7,
   "metadata": {
    "collapsed": true
   },
   "outputs": [
    {
     "name": "stderr",
     "output_type": "stream",
     "text": [
      "/Users/matthewswogger/anaconda/lib/python2.7/site-packages/pandas/core/indexing.py:288: SettingWithCopyWarning:\n",
      "\n",
      "\n",
      "A value is trying to be set on a copy of a slice from a DataFrame.\n",
      "Try using .loc[row_indexer,col_indexer] = value instead\n",
      "\n",
      "See the caveats in the documentation: http://pandas.pydata.org/pandas-docs/stable/indexing.html#indexing-view-versus-copy\n",
      "\n",
      "/Users/matthewswogger/anaconda/lib/python2.7/site-packages/pandas/core/indexing.py:465: SettingWithCopyWarning:\n",
      "\n",
      "\n",
      "A value is trying to be set on a copy of a slice from a DataFrame.\n",
      "Try using .loc[row_indexer,col_indexer] = value instead\n",
      "\n",
      "See the caveats in the documentation: http://pandas.pydata.org/pandas-docs/stable/indexing.html#indexing-view-versus-copy\n",
      "\n"
     ]
    }
   ],
   "source": [
    "mens, womens = {},{}\n",
    "for squat in sorted(df.squat_class.unique()):\n",
    "    x = df[df.squat_class == squat]\n",
    "    men = x[x.sex == 'M']\n",
    "    women = x[x.sex == 'W']\n",
    "    mens[squat] = [men.best_squat.mean(), men.best_bench.mean(), men.best_deadlift.mean()]\n",
    "    womens[squat] = [women.best_squat.mean(), women.best_bench.mean(), women.best_deadlift.mean()]\n",
    "\n",
    "df_men = df[df.sex == 'M']\n",
    "mens_array = np.array([mens[squat] for squat in df_men.squat_class])\n",
    "\n",
    "df_women = df[df.sex == 'W']\n",
    "womens_array = np.array([womens[squat] for squat in df_women.squat_class])\n",
    "\n",
    "df_men.loc[:,('average_squat')] = mens_array[:,0]\n",
    "df_men.loc[:,('average_bench')] = mens_array[:,1]\n",
    "df_men.loc[:,('average_deadlift')] = mens_array[:,2]\n",
    "\n",
    "df_women.loc[:,('average_squat')] = womens_array[:,0]\n",
    "df_women.loc[:,('average_bench')] = womens_array[:,1]\n",
    "df_women.loc[:,('average_deadlift')] = womens_array[:,2]\n",
    "\n",
    "df = pd.concat([df_men,df_women])"
   ]
  },
  {
   "cell_type": "code",
   "execution_count": 8,
   "metadata": {
    "collapsed": false
   },
   "outputs": [
    {
     "data": {
      "text/html": [
       "<div>\n",
       "<table border=\"1\" class=\"dataframe\">\n",
       "  <thead>\n",
       "    <tr style=\"text-align: right;\">\n",
       "      <th></th>\n",
       "      <th>lifter</th>\n",
       "      <th>birth_year</th>\n",
       "      <th>team</th>\n",
       "      <th>body_weight</th>\n",
       "      <th>best_squat</th>\n",
       "      <th>best_bench</th>\n",
       "      <th>best_deadlift</th>\n",
       "      <th>total</th>\n",
       "      <th>year</th>\n",
       "      <th>sex</th>\n",
       "      <th>division</th>\n",
       "      <th>bench_squat_ratio</th>\n",
       "      <th>weight_class</th>\n",
       "      <th>squat_class</th>\n",
       "      <th>average_squat</th>\n",
       "      <th>average_bench</th>\n",
       "      <th>average_deadlift</th>\n",
       "    </tr>\n",
       "  </thead>\n",
       "  <tbody>\n",
       "    <tr>\n",
       "      <th>0</th>\n",
       "      <td>Williams Ray</td>\n",
       "      <td>1986</td>\n",
       "      <td>USA</td>\n",
       "      <td>171.65</td>\n",
       "      <td>425.5</td>\n",
       "      <td>235.0</td>\n",
       "      <td>340.0</td>\n",
       "      <td>1000.5</td>\n",
       "      <td>2015</td>\n",
       "      <td>M</td>\n",
       "      <td>Classic</td>\n",
       "      <td>0.552291</td>\n",
       "      <td>200</td>\n",
       "      <td>430</td>\n",
       "      <td>425.50</td>\n",
       "      <td>235.00</td>\n",
       "      <td>340.00</td>\n",
       "    </tr>\n",
       "    <tr>\n",
       "      <th>1</th>\n",
       "      <td>Sumner Blaine</td>\n",
       "      <td>1987</td>\n",
       "      <td>USA</td>\n",
       "      <td>167.02</td>\n",
       "      <td>410.0</td>\n",
       "      <td>232.5</td>\n",
       "      <td>335.0</td>\n",
       "      <td>977.5</td>\n",
       "      <td>2015</td>\n",
       "      <td>M</td>\n",
       "      <td>Classic</td>\n",
       "      <td>0.567073</td>\n",
       "      <td>200</td>\n",
       "      <td>410</td>\n",
       "      <td>410.00</td>\n",
       "      <td>237.50</td>\n",
       "      <td>326.25</td>\n",
       "    </tr>\n",
       "    <tr>\n",
       "      <th>2</th>\n",
       "      <td>Williams Ray</td>\n",
       "      <td>1986</td>\n",
       "      <td>USA</td>\n",
       "      <td>162.40</td>\n",
       "      <td>412.5</td>\n",
       "      <td>235.0</td>\n",
       "      <td>325.0</td>\n",
       "      <td>972.5</td>\n",
       "      <td>2014</td>\n",
       "      <td>M</td>\n",
       "      <td>Classic</td>\n",
       "      <td>0.569697</td>\n",
       "      <td>200</td>\n",
       "      <td>420</td>\n",
       "      <td>412.50</td>\n",
       "      <td>235.00</td>\n",
       "      <td>325.00</td>\n",
       "    </tr>\n",
       "    <tr>\n",
       "      <th>3</th>\n",
       "      <td>Uepa Jezza</td>\n",
       "      <td>1980</td>\n",
       "      <td>NRU</td>\n",
       "      <td>168.15</td>\n",
       "      <td>410.0</td>\n",
       "      <td>242.5</td>\n",
       "      <td>317.5</td>\n",
       "      <td>970.0</td>\n",
       "      <td>2015</td>\n",
       "      <td>M</td>\n",
       "      <td>Classic</td>\n",
       "      <td>0.591463</td>\n",
       "      <td>200</td>\n",
       "      <td>410</td>\n",
       "      <td>410.00</td>\n",
       "      <td>237.50</td>\n",
       "      <td>326.25</td>\n",
       "    </tr>\n",
       "    <tr>\n",
       "      <th>4</th>\n",
       "      <td>Branton Kelly</td>\n",
       "      <td>1986</td>\n",
       "      <td>CAN</td>\n",
       "      <td>149.81</td>\n",
       "      <td>387.5</td>\n",
       "      <td>250.0</td>\n",
       "      <td>332.5</td>\n",
       "      <td>970.0</td>\n",
       "      <td>2015</td>\n",
       "      <td>M</td>\n",
       "      <td>Classic</td>\n",
       "      <td>0.645161</td>\n",
       "      <td>200</td>\n",
       "      <td>390</td>\n",
       "      <td>388.75</td>\n",
       "      <td>236.25</td>\n",
       "      <td>335.00</td>\n",
       "    </tr>\n",
       "  </tbody>\n",
       "</table>\n",
       "</div>"
      ],
      "text/plain": [
       "          lifter  birth_year team  body_weight  best_squat  best_bench  \\\n",
       "0   Williams Ray        1986  USA       171.65       425.5       235.0   \n",
       "1  Sumner Blaine        1987  USA       167.02       410.0       232.5   \n",
       "2   Williams Ray        1986  USA       162.40       412.5       235.0   \n",
       "3     Uepa Jezza        1980  NRU       168.15       410.0       242.5   \n",
       "4  Branton Kelly        1986  CAN       149.81       387.5       250.0   \n",
       "\n",
       "   best_deadlift   total  year sex division  bench_squat_ratio  weight_class  \\\n",
       "0          340.0  1000.5  2015   M  Classic           0.552291           200   \n",
       "1          335.0   977.5  2015   M  Classic           0.567073           200   \n",
       "2          325.0   972.5  2014   M  Classic           0.569697           200   \n",
       "3          317.5   970.0  2015   M  Classic           0.591463           200   \n",
       "4          332.5   970.0  2015   M  Classic           0.645161           200   \n",
       "\n",
       "   squat_class  average_squat  average_bench  average_deadlift  \n",
       "0          430         425.50         235.00            340.00  \n",
       "1          410         410.00         237.50            326.25  \n",
       "2          420         412.50         235.00            325.00  \n",
       "3          410         410.00         237.50            326.25  \n",
       "4          390         388.75         236.25            335.00  "
      ]
     },
     "execution_count": 8,
     "metadata": {},
     "output_type": "execute_result"
    }
   ],
   "source": [
    "df.head()"
   ]
  },
  {
   "cell_type": "code",
   "execution_count": 10,
   "metadata": {
    "collapsed": false
   },
   "outputs": [
    {
     "data": {
      "text/plain": [
       "(399,)"
      ]
     },
     "execution_count": 10,
     "metadata": {},
     "output_type": "execute_result"
    }
   ],
   "source": [
    "df.best_squat[df.sex == 'M'].shape"
   ]
  },
  {
   "cell_type": "code",
   "execution_count": 11,
   "metadata": {
    "collapsed": false
   },
   "outputs": [
    {
     "data": {
      "text/plain": [
       "(260,)"
      ]
     },
     "execution_count": 11,
     "metadata": {},
     "output_type": "execute_result"
    }
   ],
   "source": [
    "df.best_squat[df.sex == 'W'].shape"
   ]
  },
  {
   "cell_type": "code",
   "execution_count": 12,
   "metadata": {
    "collapsed": false
   },
   "outputs": [
    {
     "data": {
      "text/plain": [
       "(659,)"
      ]
     },
     "execution_count": 12,
     "metadata": {},
     "output_type": "execute_result"
    }
   ],
   "source": [
    "df.best_squat.shape"
   ]
  },
  {
   "cell_type": "code",
   "execution_count": 13,
   "metadata": {
    "collapsed": false
   },
   "outputs": [
    {
     "data": {
      "text/plain": [
       "659"
      ]
     },
     "execution_count": 13,
     "metadata": {},
     "output_type": "execute_result"
    }
   ],
   "source": [
    "399+260"
   ]
  },
  {
   "cell_type": "code",
   "execution_count": 17,
   "metadata": {
    "collapsed": false
   },
   "outputs": [
    {
     "name": "stdout",
     "output_type": "stream",
     "text": [
      "hay \n",
      " there\n"
     ]
    }
   ],
   "source": [
    "print 'hay \\n there'"
   ]
  },
  {
   "cell_type": "code",
   "execution_count": null,
   "metadata": {
    "collapsed": true
   },
   "outputs": [],
   "source": []
  }
 ],
 "metadata": {
  "kernelspec": {
   "display_name": "Python 2",
   "language": "python",
   "name": "python2"
  },
  "language_info": {
   "codemirror_mode": {
    "name": "ipython",
    "version": 2
   },
   "file_extension": ".py",
   "mimetype": "text/x-python",
   "name": "python",
   "nbconvert_exporter": "python",
   "pygments_lexer": "ipython2",
   "version": "2.7.11"
  },
  "widgets": {
   "state": {},
   "version": "1.1.2"
  }
 },
 "nbformat": 4,
 "nbformat_minor": 0
}
