{
 "cells": [
  {
   "cell_type": "code",
   "execution_count": null,
   "metadata": {
    "collapsed": false
   },
   "outputs": [],
   "source": [
    "import pandas as pd\n",
    "\n",
    "from bokeh.layouts import row, widgetbox\n",
    "from bokeh.models import Select\n",
    "from bokeh.palettes import Spectral5\n",
    "from bokeh.plotting import curdoc, figure\n",
    "from bokeh.sampledata.autompg import autompg\n",
    "import sqlite3"
   ]
  },
  {
   "cell_type": "code",
   "execution_count": null,
   "metadata": {
    "collapsed": true
   },
   "outputs": [],
   "source": [
    "conn = sqlite3.connect('IPF_data.db')\n",
    "c = conn.cursor()\n",
    "\n",
    "df_Open = pd.read_sql('''SELECT *\n",
    "                          FROM open''', conn)\n",
    "\n",
    "df_Classic = pd.read_sql('''SELECT *\n",
    "                          FROM classic''', conn)\n",
    "\n",
    "# this gets run when I'm done working for the session\n",
    "conn.close()"
   ]
  },
  {
   "cell_type": "code",
   "execution_count": null,
   "metadata": {
    "collapsed": true
   },
   "outputs": [],
   "source": [
    "df = autompg.copy()"
   ]
  },
  {
   "cell_type": "code",
   "execution_count": null,
   "metadata": {
    "collapsed": false,
    "scrolled": true
   },
   "outputs": [],
   "source": [
    "df.head(5)"
   ]
  },
  {
   "cell_type": "code",
   "execution_count": null,
   "metadata": {
    "collapsed": false,
    "scrolled": true
   },
   "outputs": [],
   "source": [
    "df_Classic.head(2)"
   ]
  },
  {
   "cell_type": "code",
   "execution_count": null,
   "metadata": {
    "collapsed": true
   },
   "outputs": [],
   "source": [
    "SIZES = list(range(6, 22, 3))\n",
    "COLORS = Spectral5\n",
    "ORIGINS = ['North America', 'Europe', 'Asia']\n",
    "\n",
    "# data cleanup\n",
    "df.cyl = [str(x) for x in df.cyl]\n",
    "df.origin = [ORIGINS[x-1] for x in df.origin]\n",
    "\n",
    "df['year'] = [str(x) for x in df.yr]\n",
    "del df['yr']\n",
    "\n",
    "df['mfr'] = [x.split()[0] for x in df.name]\n",
    "df.loc[df.mfr=='chevy', 'mfr'] = 'chevrolet'\n",
    "df.loc[df.mfr=='chevroelt', 'mfr'] = 'chevrolet'\n",
    "df.loc[df.mfr=='maxda', 'mfr'] = 'mazda'\n",
    "df.loc[df.mfr=='mercedes-benz', 'mfr'] = 'mercedes'\n",
    "df.loc[df.mfr=='toyouta', 'mfr'] = 'toyota'\n",
    "df.loc[df.mfr=='vokswagen', 'mfr'] = 'volkswagen'\n",
    "df.loc[df.mfr=='vw', 'mfr'] = 'volkswagen'\n",
    "del df['name']\n",
    "\n",
    "columns = sorted(df.columns)\n",
    "discrete = [x for x in columns if df[x].dtype == object]\n",
    "continuous = [x for x in columns if x not in discrete]\n",
    "quantileable = [x for x in continuous if len(df[x].unique()) > 20]"
   ]
  },
  {
   "cell_type": "code",
   "execution_count": null,
   "metadata": {
    "collapsed": false
   },
   "outputs": [],
   "source": [
    "print columns\n",
    "print discrete\n",
    "print continuous\n",
    "print quantileable"
   ]
  },
  {
   "cell_type": "code",
   "execution_count": null,
   "metadata": {
    "collapsed": true
   },
   "outputs": [],
   "source": [
    "def create_figure():\n",
    "    xs = df[x.value].values\n",
    "    ys = df[y.value].values\n",
    "    x_title = x.value.title()\n",
    "    y_title = y.value.title()\n",
    "\n",
    "    kw = dict()\n",
    "    if x.value in discrete:\n",
    "        kw['x_range'] = sorted(set(xs))\n",
    "    if y.value in discrete:\n",
    "        kw['y_range'] = sorted(set(ys))\n",
    "    kw['title'] = \"%s vs %s\" % (x_title, y_title)\n",
    "\n",
    "    p = figure(plot_height=600, plot_width=800, tools='pan,box_zoom,reset', **kw)\n",
    "    p.xaxis.axis_label = x_title\n",
    "    p.yaxis.axis_label = y_title\n",
    "\n",
    "    if x.value in discrete:\n",
    "        p.xaxis.major_label_orientation = pd.np.pi / 4\n",
    "\n",
    "    sz = 9\n",
    "    if size.value != 'None':\n",
    "        groups = pd.qcut(df[size.value].values, len(SIZES))\n",
    "        sz = [SIZES[xx] for xx in groups.codes]\n",
    "\n",
    "    c = \"#31AADE\"\n",
    "    if color.value != 'None':\n",
    "        groups = pd.qcut(df[color.value].values, len(COLORS))\n",
    "        c = [COLORS[xx] for xx in groups.codes]\n",
    "    p.circle(x=xs, y=ys, color=c, size=sz, line_color=\"white\", alpha=0.6, hover_color='white', hover_alpha=0.5)\n",
    "\n",
    "    return p\n",
    "\n",
    "def update(attr, old, new):\n",
    "    layout.children[1] = create_figure()"
   ]
  },
  {
   "cell_type": "code",
   "execution_count": null,
   "metadata": {
    "collapsed": false
   },
   "outputs": [],
   "source": [
    "x = Select(title='X-Axis', value='mpg', options=columns)\n",
    "x.on_change('value', update)\n",
    "\n",
    "y = Select(title='Y-Axis', value='hp', options=columns)\n",
    "y.on_change('value', update)\n",
    "\n",
    "size = Select(title='Size', value='None', options=['None'] + quantileable)\n",
    "size.on_change('value', update)\n",
    "\n",
    "color = Select(title='Color', value='None', options=['None'] + quantileable)\n",
    "color.on_change('value', update)\n",
    "\n",
    "controls = widgetbox([x, y, color, size], width=200)\n",
    "layout = row(controls, create_figure())\n",
    "\n",
    "curdoc().add_root(layout)\n",
    "curdoc().title = \"Crossfilter\""
   ]
  },
  {
   "cell_type": "code",
   "execution_count": null,
   "metadata": {
    "collapsed": false
   },
   "outputs": [],
   "source": [
    "# from bokeh.io import push_notebook, show, output_notebook\n",
    "# output_notebook()"
   ]
  },
  {
   "cell_type": "code",
   "execution_count": null,
   "metadata": {
    "collapsed": false
   },
   "outputs": [],
   "source": [
    "# show(layout)"
   ]
  }
 ],
 "metadata": {
  "kernelspec": {
   "display_name": "Python 2",
   "language": "python",
   "name": "python2"
  },
  "language_info": {
   "codemirror_mode": {
    "name": "ipython",
    "version": 2
   },
   "file_extension": ".py",
   "mimetype": "text/x-python",
   "name": "python",
   "nbconvert_exporter": "python",
   "pygments_lexer": "ipython2",
   "version": "2.7.11"
  },
  "widgets": {
   "state": {},
   "version": "1.1.2"
  }
 },
 "nbformat": 4,
 "nbformat_minor": 0
}
