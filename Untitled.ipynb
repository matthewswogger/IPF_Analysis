{
 "cells": [
  {
   "cell_type": "code",
   "execution_count": null,
   "metadata": {
    "collapsed": false
   },
   "outputs": [],
   "source": [
    "import pandas as pd\n",
    "import numpy as np\n",
    "from bokeh.layouts import row, widgetbox\n",
    "from bokeh.models import Select\n",
    "from bokeh.palettes import Spectral5\n",
    "from bokeh.plotting import curdoc, figure\n",
    "from bokeh.sampledata.autompg import autompg\n",
    "import sqlite3"
   ]
  },
  {
   "cell_type": "code",
   "execution_count": null,
   "metadata": {
    "collapsed": false
   },
   "outputs": [],
   "source": [
    "conn = sqlite3.connect('IPF_data.db')\n",
    "c = conn.cursor()\n",
    "\n",
    "df = pd.read_sql('''SELECT *\n",
    "                    FROM classic''', conn)\n",
    "\n",
    "# this gets run when I'm done working for the session\n",
    "conn.close()"
   ]
  },
  {
   "cell_type": "code",
   "execution_count": null,
   "metadata": {
    "collapsed": false,
    "scrolled": false
   },
   "outputs": [],
   "source": [
    "df.head()"
   ]
  },
  {
   "cell_type": "code",
   "execution_count": null,
   "metadata": {
    "collapsed": false
   },
   "outputs": [],
   "source": [
    "mens, womens = {},{}\n",
    "for squat in sorted(df.squat_class.unique()):\n",
    "    x = df[df.squat_class == squat]\n",
    "    men = x[x.sex == 'M']\n",
    "    women = x[x.sex == 'W']\n",
    "    mens[squat] = [men.best_squat.mean(), men.best_bench.mean(), men.best_deadlift.mean()]\n",
    "    womens[squat] = [women.best_squat.mean(), women.best_bench.mean(), women.best_deadlift.mean()]\n",
    "\n",
    "df_men = df[df.sex == 'M']\n",
    "mens_array = np.array([mens[squat] for squat in df_men.squat_class])\n",
    "\n",
    "df_women = df[df.sex == 'W']\n",
    "womens_array = np.array([womens[squat] for squat in df_women.squat_class])\n",
    "\n",
    "df_men.loc[:,('average_squat')] = mens_array[:,0]\n",
    "df_men.loc[:,('average_bench')] = mens_array[:,1]\n",
    "df_men.loc[:,('average_deadlift')] = mens_array[:,2]\n",
    "\n",
    "df_women.loc[:,('average_squat')] = womens_array[:,0]\n",
    "df_women.loc[:,('average_bench')] = womens_array[:,1]\n",
    "df_women.loc[:,('average_deadlift')] = womens_array[:,2]\n",
    "\n",
    "df = pd.concat([df_men,df_women])"
   ]
  },
  {
   "cell_type": "code",
   "execution_count": null,
   "metadata": {
    "collapsed": false
   },
   "outputs": [],
   "source": [
    "df.head()"
   ]
  },
  {
   "cell_type": "code",
   "execution_count": null,
   "metadata": {
    "collapsed": true
   },
   "outputs": [],
   "source": []
  }
 ],
 "metadata": {
  "kernelspec": {
   "display_name": "Python 2",
   "language": "python",
   "name": "python2"
  },
  "language_info": {
   "codemirror_mode": {
    "name": "ipython",
    "version": 2
   },
   "file_extension": ".py",
   "mimetype": "text/x-python",
   "name": "python",
   "nbconvert_exporter": "python",
   "pygments_lexer": "ipython2",
   "version": "2.7.11"
  },
  "widgets": {
   "state": {},
   "version": "1.1.2"
  }
 },
 "nbformat": 4,
 "nbformat_minor": 0
}
