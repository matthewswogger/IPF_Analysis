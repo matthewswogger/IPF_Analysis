{
 "cells": [
  {
   "cell_type": "code",
   "execution_count": null,
   "metadata": {
    "collapsed": false
   },
   "outputs": [],
   "source": [
    "import plotly.plotly as py\n",
    "from plotly.graph_objs import *\n",
    "import pandas as pd\n",
    "import numpy as np\n",
    "import sqlite3\n",
    "# plotly.tools.set_credentials_file(username='matthewswogger', api_key='yvy76segzl')"
   ]
  },
  {
   "cell_type": "code",
   "execution_count": null,
   "metadata": {
    "collapsed": false
   },
   "outputs": [],
   "source": [
    "# trace0 = Scatter(x=[1, 2, 3, 4], y=[10, 15, 13, 17])\n",
    "# trace1 = Scatter(x=[1, 2, 3, 4], y=[16, 5, 11, 9])\n",
    "# data = Data([trace0, trace1])\n",
    "\n",
    "# py.iplot(data, filename = 'basic-line')"
   ]
  },
  {
   "cell_type": "code",
   "execution_count": null,
   "metadata": {
    "collapsed": true
   },
   "outputs": [],
   "source": [
    "conn = sqlite3.connect('IPF_data.db')\n",
    "c = conn.cursor()\n",
    "\n",
    "df = pd.read_sql('''SELECT *\n",
    "                    FROM classic''', conn)\n",
    "conn.close()"
   ]
  },
  {
   "cell_type": "code",
   "execution_count": null,
   "metadata": {
    "collapsed": false
   },
   "outputs": [],
   "source": [
    "mens, womens = {},{}\n",
    "for squat in sorted(df.squat_class.unique()):\n",
    "    x = df[df.squat_class == squat]\n",
    "    men = x[x.sex == 'M']\n",
    "    women = x[x.sex == 'W']\n",
    "    mens[squat] = [men.best_squat.mean(), men.best_bench.mean(), men.best_deadlift.mean()]\n",
    "    womens[squat] = [women.best_squat.mean(), women.best_bench.mean(), women.best_deadlift.mean()]\n",
    "\n",
    "df_men = df[df.sex == 'M']\n",
    "mens_array = np.array([mens[squat] for squat in df_men.squat_class])\n",
    "\n",
    "df_women = df[df.sex == 'W']\n",
    "womens_array = np.array([womens[squat] for squat in df_women.squat_class])\n",
    "\n",
    "df_men.loc[:,('average_squat')] = mens_array[:,0]\n",
    "df_men.loc[:,('average_bench')] = mens_array[:,1]\n",
    "df_men.loc[:,('average_deadlift')] = mens_array[:,2]\n",
    "\n",
    "df_women.loc[:,('average_squat')] = womens_array[:,0]\n",
    "df_women.loc[:,('average_bench')] = womens_array[:,1]\n",
    "df_women.loc[:,('average_deadlift')] = womens_array[:,2]\n",
    "\n",
    "df = pd.concat([df_men,df_women])"
   ]
  },
  {
   "cell_type": "code",
   "execution_count": null,
   "metadata": {
    "collapsed": true
   },
   "outputs": [],
   "source": []
  }
 ],
 "metadata": {
  "kernelspec": {
   "display_name": "Python 2",
   "language": "python",
   "name": "python2"
  },
  "language_info": {
   "codemirror_mode": {
    "name": "ipython",
    "version": 2
   },
   "file_extension": ".py",
   "mimetype": "text/x-python",
   "name": "python",
   "nbconvert_exporter": "python",
   "pygments_lexer": "ipython2",
   "version": "2.7.11"
  },
  "widgets": {
   "state": {},
   "version": "1.1.2"
  }
 },
 "nbformat": 4,
 "nbformat_minor": 0
}
